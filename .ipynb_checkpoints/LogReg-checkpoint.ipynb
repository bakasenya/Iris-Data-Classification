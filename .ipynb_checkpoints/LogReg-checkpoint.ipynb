{
 "cells": [
  {
   "cell_type": "code",
   "execution_count": 4,
   "id": "42193b05-9d30-4b98-b3ee-d5b8c00f830e",
   "metadata": {},
   "outputs": [],
   "source": [
    "import numpy as np\n",
    "import matplotlib.pyplot as plt\n",
    "import seaborn as sns\n",
    "import pandas as pd"
   ]
  },
  {
   "cell_type": "code",
   "execution_count": 8,
   "id": "c9dba69d-b0d8-433f-93d2-e62e6e56d532",
   "metadata": {},
   "outputs": [
    {
     "name": "stdout",
     "output_type": "stream",
     "text": [
      "<class 'pandas.core.frame.DataFrame'>\n",
      "RangeIndex: 150 entries, 0 to 149\n",
      "Data columns (total 6 columns):\n",
      " #   Column         Non-Null Count  Dtype  \n",
      "---  ------         --------------  -----  \n",
      " 0   Id             150 non-null    int64  \n",
      " 1   SepalLengthCm  150 non-null    float64\n",
      " 2   SepalWidthCm   150 non-null    float64\n",
      " 3   PetalLengthCm  150 non-null    float64\n",
      " 4   PetalWidthCm   150 non-null    float64\n",
      " 5   Species        150 non-null    object \n",
      "dtypes: float64(4), int64(1), object(1)\n",
      "memory usage: 7.2+ KB\n",
      "None\n",
      "Outliers:     SepalLengthCm  SepalWidthCm  PetalLengthCm  PetalWidthCm          Species\n",
      "15            5.7           4.4            1.5           0.4      Iris-setosa\n",
      "32            5.2           4.1            1.5           0.1      Iris-setosa\n",
      "33            5.5           4.2            1.4           0.2      Iris-setosa\n",
      "60            5.0           2.0            3.5           1.0  Iris-versicolor\n"
     ]
    },
    {
     "data": {
      "text/plain": [
       "(146, 5)"
      ]
     },
     "execution_count": 8,
     "metadata": {},
     "output_type": "execute_result"
    }
   ],
   "source": [
    "data = pd.read_csv(\"data/Iris.csv\")\n",
    "\n",
    "print(data.info())\n",
    "\n",
    "data = data.drop([\"Id\"], axis=1)\n",
    "\n",
    "Q1 = data[\"SepalWidthCm\"].quantile(0.25)\n",
    "Q3 = data[\"SepalWidthCm\"].quantile(0.75)\n",
    "\n",
    "IQR = Q3 - Q1\n",
    "\n",
    "lower_bound = Q1 - 1.5 * IQR\n",
    "upper_bound = Q3 + 1.5 * IQR\n",
    "\n",
    "outliers = data[(data[\"SepalWidthCm\"] < lower_bound) | (data[\"SepalWidthCm\"] > upper_bound)]\n",
    "print(f\"Outliers: {outliers}\")\n",
    "\n",
    "data = data[(data[\"SepalWidthCm\"] >= lower_bound) & (data[\"SepalWidthCm\"] <= upper_bound)].copy()\n",
    "data.shape"
   ]
  },
  {
   "cell_type": "code",
   "execution_count": 25,
   "id": "d6ff0bd2-0fff-41cc-b114-4666618894ff",
   "metadata": {},
   "outputs": [],
   "source": [
    "from sklearn.model_selection import train_test_split\n",
    "from sklearn.metrics import accuracy_score, recall_score, roc_auc_score, f1_score, matthews_corrcoef, confusion_matrix, classification_report\n",
    "from sklearn.tree import DecisionTreeRegressor\n",
    "from sklearn.linear_model import LogisticRegression\n"
   ]
  },
  {
   "cell_type": "code",
   "execution_count": 11,
   "id": "fe9507f2-a4c0-4972-ae0e-b83b542d230f",
   "metadata": {},
   "outputs": [
    {
     "name": "stdout",
     "output_type": "stream",
     "text": [
      "X train      SepalLengthCm  SepalWidthCm  PetalLengthCm  PetalWidthCm\n",
      "131            7.9           3.8            6.4           2.0\n",
      "135            7.7           3.0            6.1           2.3\n",
      "101            5.8           2.7            5.1           1.9\n",
      "88             5.6           3.0            4.1           1.3\n",
      "6              4.6           3.4            1.4           0.3\n",
      "..             ...           ...            ...           ...\n",
      "129            7.2           3.0            5.8           1.6\n",
      "59             5.2           2.7            3.9           1.4\n",
      "149            5.9           3.0            5.1           1.8\n",
      "96             5.7           2.9            4.2           1.3\n",
      "130            7.4           2.8            6.1           1.9\n",
      "\n",
      "[116 rows x 4 columns]\n",
      "y train 131     Iris-virginica\n",
      "135     Iris-virginica\n",
      "101     Iris-virginica\n",
      "88     Iris-versicolor\n",
      "6          Iris-setosa\n",
      "            ...       \n",
      "129     Iris-virginica\n",
      "59     Iris-versicolor\n",
      "149     Iris-virginica\n",
      "96     Iris-versicolor\n",
      "130     Iris-virginica\n",
      "Name: Species, Length: 116, dtype: object\n",
      "X test      SepalLengthCm  SepalWidthCm  PetalLengthCm  PetalWidthCm\n",
      "26             5.0           3.4            1.6           0.4\n",
      "137            6.4           3.1            5.5           1.8\n",
      "102            7.1           3.0            5.9           2.1\n",
      "28             5.2           3.4            1.4           0.2\n",
      "148            6.2           3.4            5.4           2.3\n",
      "145            6.7           3.0            5.2           2.3\n",
      "48             5.3           3.7            1.5           0.2\n",
      "109            7.2           3.6            6.1           2.5\n",
      "34             4.9           3.1            1.5           0.1\n",
      "74             6.4           2.9            4.3           1.3\n",
      "27             5.2           3.5            1.5           0.2\n",
      "98             5.1           2.5            3.0           1.1\n",
      "29             4.7           3.2            1.6           0.2\n",
      "116            6.5           3.0            5.5           1.8\n",
      "115            6.4           3.2            5.3           2.3\n",
      "126            6.2           2.8            4.8           1.8\n",
      "40             5.0           3.5            1.3           0.3\n",
      "21             5.1           3.7            1.5           0.4\n",
      "118            7.7           2.6            6.9           2.3\n",
      "61             5.9           3.0            4.2           1.5\n",
      "89             5.5           2.5            4.0           1.3\n",
      "3              4.6           3.1            1.5           0.2\n",
      "92             5.8           2.6            4.0           1.2\n",
      "71             6.1           2.8            4.0           1.3\n",
      "147            6.5           3.0            5.2           2.0\n",
      "107            7.3           2.9            6.3           1.8\n",
      "42             4.4           3.2            1.3           0.2\n",
      "7              5.0           3.4            1.5           0.2\n",
      "18             5.7           3.8            1.7           0.3\n",
      "8              4.4           2.9            1.4           0.2\n",
      "y test 26         Iris-setosa\n",
      "137     Iris-virginica\n",
      "102     Iris-virginica\n",
      "28         Iris-setosa\n",
      "148     Iris-virginica\n",
      "145     Iris-virginica\n",
      "48         Iris-setosa\n",
      "109     Iris-virginica\n",
      "34         Iris-setosa\n",
      "74     Iris-versicolor\n",
      "27         Iris-setosa\n",
      "98     Iris-versicolor\n",
      "29         Iris-setosa\n",
      "116     Iris-virginica\n",
      "115     Iris-virginica\n",
      "126     Iris-virginica\n",
      "40         Iris-setosa\n",
      "21         Iris-setosa\n",
      "118     Iris-virginica\n",
      "61     Iris-versicolor\n",
      "89     Iris-versicolor\n",
      "3          Iris-setosa\n",
      "92     Iris-versicolor\n",
      "71     Iris-versicolor\n",
      "147     Iris-virginica\n",
      "107     Iris-virginica\n",
      "42         Iris-setosa\n",
      "7          Iris-setosa\n",
      "18         Iris-setosa\n",
      "8          Iris-setosa\n",
      "Name: Species, dtype: object\n"
     ]
    }
   ],
   "source": [
    "X = data.copy()\n",
    "X = X.drop(columns=[\"Species\"])\n",
    "y = data[\"Species\"]\n",
    "\n",
    "X_train , X_test, y_train, y_test = train_test_split(X, y, test_size=0.2, random_state=9)\n",
    "\n",
    "print(\"X train\", X_train)\n",
    "\n",
    "print(\"y train\", y_train)\n",
    "\n",
    "print(\"X test\", X_test)\n",
    "\n",
    "print(\"y test\", y_test)"
   ]
  },
  {
   "cell_type": "code",
   "execution_count": 14,
   "id": "caf1dfe3-29f8-440b-8828-ec45a17024b4",
   "metadata": {},
   "outputs": [],
   "source": [
    "model = LogisticRegression(max_iter=1000, random_state=9)\n",
    "\n",
    "model.fit(X_train, y_train)\n",
    "\n",
    "y_pred = model.predict(X_test)"
   ]
  },
  {
   "cell_type": "code",
   "execution_count": 20,
   "id": "aac9fabc-a244-4c27-8f8c-6e7a44d92958",
   "metadata": {},
   "outputs": [
    {
     "name": "stdout",
     "output_type": "stream",
     "text": [
      "Accuracy: 1.0\n"
     ]
    }
   ],
   "source": [
    "accuracy = accuracy_score(y_test, y_pred)\n",
    "\n",
    "print(f\"Accuracy: {accuracy}\")"
   ]
  },
  {
   "cell_type": "code",
   "execution_count": 21,
   "id": "02db4b90-cc22-4417-9c9f-028deae3678d",
   "metadata": {},
   "outputs": [
    {
     "name": "stdout",
     "output_type": "stream",
     "text": [
      "yPred: ['Iris-setosa' 'Iris-virginica' 'Iris-virginica' 'Iris-setosa'\n",
      " 'Iris-virginica' 'Iris-virginica' 'Iris-setosa' 'Iris-virginica'\n",
      " 'Iris-setosa' 'Iris-versicolor' 'Iris-setosa' 'Iris-versicolor'\n",
      " 'Iris-setosa' 'Iris-virginica' 'Iris-virginica' 'Iris-virginica'\n",
      " 'Iris-setosa' 'Iris-setosa' 'Iris-virginica' 'Iris-versicolor'\n",
      " 'Iris-versicolor' 'Iris-setosa' 'Iris-versicolor' 'Iris-versicolor'\n",
      " 'Iris-virginica' 'Iris-virginica' 'Iris-setosa' 'Iris-setosa'\n",
      " 'Iris-setosa' 'Iris-setosa']\n"
     ]
    }
   ],
   "source": [
    "print(f\"yPred: {y_pred}\")"
   ]
  },
  {
   "cell_type": "code",
   "execution_count": 22,
   "id": "e5544b07-6554-4152-a68e-6a9a4bf39b38",
   "metadata": {},
   "outputs": [
    {
     "name": "stdout",
     "output_type": "stream",
     "text": [
      "yTest: 26         Iris-setosa\n",
      "137     Iris-virginica\n",
      "102     Iris-virginica\n",
      "28         Iris-setosa\n",
      "148     Iris-virginica\n",
      "145     Iris-virginica\n",
      "48         Iris-setosa\n",
      "109     Iris-virginica\n",
      "34         Iris-setosa\n",
      "74     Iris-versicolor\n",
      "27         Iris-setosa\n",
      "98     Iris-versicolor\n",
      "29         Iris-setosa\n",
      "116     Iris-virginica\n",
      "115     Iris-virginica\n",
      "126     Iris-virginica\n",
      "40         Iris-setosa\n",
      "21         Iris-setosa\n",
      "118     Iris-virginica\n",
      "61     Iris-versicolor\n",
      "89     Iris-versicolor\n",
      "3          Iris-setosa\n",
      "92     Iris-versicolor\n",
      "71     Iris-versicolor\n",
      "147     Iris-virginica\n",
      "107     Iris-virginica\n",
      "42         Iris-setosa\n",
      "7          Iris-setosa\n",
      "18         Iris-setosa\n",
      "8          Iris-setosa\n",
      "Name: Species, dtype: object\n"
     ]
    }
   ],
   "source": [
    "print(f\"yTest: {y_test}\")"
   ]
  },
  {
   "cell_type": "code",
   "execution_count": 23,
   "id": "0ea30d70-5179-49b9-86b3-fdbebeb5eef6",
   "metadata": {},
   "outputs": [
    {
     "name": "stdout",
     "output_type": "stream",
     "text": [
      "Cross-Validation Scores: [0.96666667 1.         0.93103448 0.96551724 1.        ]\n",
      "Average Cross-Validation Score: 0.9726436781609195\n"
     ]
    }
   ],
   "source": [
    "from sklearn.model_selection import cross_val_score\n",
    "scores = cross_val_score(model, X, y, cv=5)  # 5-fold cross-validation\n",
    "print(f\"Cross-Validation Scores: {scores}\")\n",
    "print(f\"Average Cross-Validation Score: {scores.mean()}\")"
   ]
  },
  {
   "cell_type": "code",
   "execution_count": 26,
   "id": "031be66d-1d96-45d3-b7ab-20979048bae9",
   "metadata": {},
   "outputs": [
    {
     "name": "stdout",
     "output_type": "stream",
     "text": [
      "                 precision    recall  f1-score   support\n",
      "\n",
      "    Iris-setosa       1.00      1.00      1.00        13\n",
      "Iris-versicolor       1.00      1.00      1.00         6\n",
      " Iris-virginica       1.00      1.00      1.00        11\n",
      "\n",
      "       accuracy                           1.00        30\n",
      "      macro avg       1.00      1.00      1.00        30\n",
      "   weighted avg       1.00      1.00      1.00        30\n",
      "\n",
      "Confusion Matrix:\n",
      " [[13  0  0]\n",
      " [ 0  6  0]\n",
      " [ 0  0 11]]\n"
     ]
    }
   ],
   "source": [
    "# Display classification report for precision, recall, and F1-score\n",
    "print(classification_report(y_test, y_pred))\n",
    "\n",
    "# Confusion Matrix to see the number of true positives, false positives, etc.\n",
    "conf_matrix = confusion_matrix(y_test, y_pred)\n",
    "print(\"Confusion Matrix:\\n\", conf_matrix)\n"
   ]
  },
  {
   "cell_type": "code",
   "execution_count": null,
   "id": "5413836c-f0aa-4d44-b20d-438105e9c173",
   "metadata": {},
   "outputs": [],
   "source": []
  }
 ],
 "metadata": {
  "kernelspec": {
   "display_name": "Python 3 (ipykernel)",
   "language": "python",
   "name": "python3"
  },
  "language_info": {
   "codemirror_mode": {
    "name": "ipython",
    "version": 3
   },
   "file_extension": ".py",
   "mimetype": "text/x-python",
   "name": "python",
   "nbconvert_exporter": "python",
   "pygments_lexer": "ipython3",
   "version": "3.12.5"
  }
 },
 "nbformat": 4,
 "nbformat_minor": 5
}
